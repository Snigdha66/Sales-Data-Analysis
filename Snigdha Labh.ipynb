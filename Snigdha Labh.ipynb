{
 "cells": [
  {
   "cell_type": "markdown",
   "metadata": {},
   "source": [
    "# SALES DATA ANALYSIS MINI PROJECT\n",
    "## By: Snigdha Labh, Electronics and Telecommunication "
   ]
  },
  {
   "cell_type": "markdown",
   "metadata": {},
   "source": [
    "### Task 1: Identifying and importing essential libraries"
   ]
  },
  {
   "cell_type": "code",
   "execution_count": 1,
   "metadata": {},
   "outputs": [],
   "source": [
    "import numpy as np\n",
    "import pandas as pd\n",
    "import math\n",
    "import matplotlib.pyplot as plt\n",
    "get_ipython().run_line_magic('matplotlib', 'inline')"
   ]
  },
  {
   "cell_type": "markdown",
   "metadata": {},
   "source": [
    "### Task 2: Data loading and overview"
   ]
  },
  {
   "cell_type": "code",
   "execution_count": 2,
   "metadata": {},
   "outputs": [
    {
     "name": "stdout",
     "output_type": "stream",
     "text": [
      "      Row ID        Order ID Order Date  Ship Date       Ship Mode  \\\n",
      "0          1  CA-2016-152156 2016-11-08 2016-11-11    Second Class   \n",
      "1          2  CA-2016-152156 2016-11-08 2016-11-11    Second Class   \n",
      "2          3  CA-2016-138688 2016-06-12 2016-06-16    Second Class   \n",
      "3          4  US-2015-108966 2015-10-11 2015-10-18  Standard Class   \n",
      "4          5  US-2015-108966 2015-10-11 2015-10-18  Standard Class   \n",
      "...      ...             ...        ...        ...             ...   \n",
      "9989    9990  CA-2014-110422 2014-01-21 2014-01-23    Second Class   \n",
      "9990    9991  CA-2017-121258 2017-02-26 2017-03-03  Standard Class   \n",
      "9991    9992  CA-2017-121258 2017-02-26 2017-03-03  Standard Class   \n",
      "9992    9993  CA-2017-121258 2017-02-26 2017-03-03  Standard Class   \n",
      "9993    9994  CA-2017-119914 2017-05-04 2017-05-09    Second Class   \n",
      "\n",
      "     Customer ID     Customer Name    Segment        Country             City  \\\n",
      "0       CG-12520       Claire Gute   Consumer  United States        Henderson   \n",
      "1       CG-12520       Claire Gute   Consumer  United States        Henderson   \n",
      "2       DV-13045   Darrin Van Huff  Corporate  United States      Los Angeles   \n",
      "3       SO-20335    Sean O'Donnell   Consumer  United States  Fort Lauderdale   \n",
      "4       SO-20335    Sean O'Donnell   Consumer  United States  Fort Lauderdale   \n",
      "...          ...               ...        ...            ...              ...   \n",
      "9989    TB-21400  Tom Boeckenhauer   Consumer  United States            Miami   \n",
      "9990    DB-13060       Dave Brooks   Consumer  United States       Costa Mesa   \n",
      "9991    DB-13060       Dave Brooks   Consumer  United States       Costa Mesa   \n",
      "9992    DB-13060       Dave Brooks   Consumer  United States       Costa Mesa   \n",
      "9993    CC-12220      Chris Cortes   Consumer  United States      Westminster   \n",
      "\n",
      "      ... Postal Code  Region       Product ID         Category Sub-Category  \\\n",
      "0     ...       42420   South  FUR-BO-10001798        Furniture    Bookcases   \n",
      "1     ...       42420   South  FUR-CH-10000454        Furniture       Chairs   \n",
      "2     ...       90036    West  OFF-LA-10000240  Office Supplies       Labels   \n",
      "3     ...       33311   South  FUR-TA-10000577        Furniture       Tables   \n",
      "4     ...       33311   South  OFF-ST-10000760  Office Supplies      Storage   \n",
      "...   ...         ...     ...              ...              ...          ...   \n",
      "9989  ...       33180   South  FUR-FU-10001889        Furniture  Furnishings   \n",
      "9990  ...       92627    West  FUR-FU-10000747        Furniture  Furnishings   \n",
      "9991  ...       92627    West  TEC-PH-10003645       Technology       Phones   \n",
      "9992  ...       92627    West  OFF-PA-10004041  Office Supplies        Paper   \n",
      "9993  ...       92683    West  OFF-AP-10002684  Office Supplies   Appliances   \n",
      "\n",
      "                                           Product Name     Sales  Quantity  \\\n",
      "0                     Bush Somerset Collection Bookcase  261.9600         2   \n",
      "1     Hon Deluxe Fabric Upholstered Stacking Chairs,...  731.9400         3   \n",
      "2     Self-Adhesive Address Labels for Typewriters b...   14.6200         2   \n",
      "3         Bretford CR4500 Series Slim Rectangular Table  957.5775         5   \n",
      "4                        Eldon Fold 'N Roll Cart System   22.3680         2   \n",
      "...                                                 ...       ...       ...   \n",
      "9989                             Ultra Door Pull Handle   25.2480         3   \n",
      "9990  Tenex B1-RE Series Chair Mats for Low Pile Car...   91.9600         2   \n",
      "9991                              Aastra 57i VoIP phone  258.5760         2   \n",
      "9992  It's Hot Message Books with Stickers, 2 3/4\" x 5\"   29.6000         4   \n",
      "9993  Acco 7-Outlet Masterpiece Power Center, Wihtou...  243.1600         2   \n",
      "\n",
      "      Discount    Profit  \n",
      "0         0.00   41.9136  \n",
      "1         0.00  219.5820  \n",
      "2         0.00    6.8714  \n",
      "3         0.45 -383.0310  \n",
      "4         0.20    2.5164  \n",
      "...        ...       ...  \n",
      "9989      0.20    4.1028  \n",
      "9990      0.00   15.6332  \n",
      "9991      0.20   19.3932  \n",
      "9992      0.00   13.3200  \n",
      "9993      0.00   72.9480  \n",
      "\n",
      "[9994 rows x 21 columns]\n"
     ]
    }
   ],
   "source": [
    "#a.Load the dataset from a file\n",
    "df = pd.read_excel('Superstore.xls')\n",
    "print (df) "
   ]
  },
  {
   "cell_type": "code",
   "execution_count": 4,
   "metadata": {},
   "outputs": [
    {
     "name": "stdout",
     "output_type": "stream",
     "text": [
      "            City  Number of people\n",
      "0       Aberdeen                 1\n",
      "1        Abilene                 1\n",
      "2          Akron                21\n",
      "3    Albuquerque                14\n",
      "4     Alexandria                16\n",
      "..           ...               ...\n",
      "526   Woonsocket                 4\n",
      "527      Yonkers                15\n",
      "528         York                 5\n",
      "529      Yucaipa                 1\n",
      "530         Yuma                 4\n",
      "\n",
      "[531 rows x 2 columns]\n"
     ]
    }
   ],
   "source": [
    "City_cust = df.groupby([\"City\"]).size().reset_index(name='Number of people')\n",
    "print(City_cust)\n"
   ]
  },
  {
   "cell_type": "code",
   "execution_count": 4,
   "metadata": {},
   "outputs": [
    {
     "name": "stdout",
     "output_type": "stream",
     "text": [
      "The first 5 records of the data are:\n"
     ]
    },
    {
     "data": {
      "text/html": [
       "<div>\n",
       "<style scoped>\n",
       "    .dataframe tbody tr th:only-of-type {\n",
       "        vertical-align: middle;\n",
       "    }\n",
       "\n",
       "    .dataframe tbody tr th {\n",
       "        vertical-align: top;\n",
       "    }\n",
       "\n",
       "    .dataframe thead th {\n",
       "        text-align: right;\n",
       "    }\n",
       "</style>\n",
       "<table border=\"1\" class=\"dataframe\">\n",
       "  <thead>\n",
       "    <tr style=\"text-align: right;\">\n",
       "      <th></th>\n",
       "      <th>Row ID</th>\n",
       "      <th>Order ID</th>\n",
       "      <th>Order Date</th>\n",
       "      <th>Ship Date</th>\n",
       "      <th>Ship Mode</th>\n",
       "      <th>Customer ID</th>\n",
       "      <th>Customer Name</th>\n",
       "      <th>Segment</th>\n",
       "      <th>Country</th>\n",
       "      <th>City</th>\n",
       "      <th>...</th>\n",
       "      <th>Postal Code</th>\n",
       "      <th>Region</th>\n",
       "      <th>Product ID</th>\n",
       "      <th>Category</th>\n",
       "      <th>Sub-Category</th>\n",
       "      <th>Product Name</th>\n",
       "      <th>Sales</th>\n",
       "      <th>Quantity</th>\n",
       "      <th>Discount</th>\n",
       "      <th>Profit</th>\n",
       "    </tr>\n",
       "  </thead>\n",
       "  <tbody>\n",
       "    <tr>\n",
       "      <th>0</th>\n",
       "      <td>1</td>\n",
       "      <td>CA-2016-152156</td>\n",
       "      <td>2016-11-08</td>\n",
       "      <td>2016-11-11</td>\n",
       "      <td>Second Class</td>\n",
       "      <td>CG-12520</td>\n",
       "      <td>Claire Gute</td>\n",
       "      <td>Consumer</td>\n",
       "      <td>United States</td>\n",
       "      <td>Henderson</td>\n",
       "      <td>...</td>\n",
       "      <td>42420</td>\n",
       "      <td>South</td>\n",
       "      <td>FUR-BO-10001798</td>\n",
       "      <td>Furniture</td>\n",
       "      <td>Bookcases</td>\n",
       "      <td>Bush Somerset Collection Bookcase</td>\n",
       "      <td>261.9600</td>\n",
       "      <td>2</td>\n",
       "      <td>0.00</td>\n",
       "      <td>41.9136</td>\n",
       "    </tr>\n",
       "    <tr>\n",
       "      <th>1</th>\n",
       "      <td>2</td>\n",
       "      <td>CA-2016-152156</td>\n",
       "      <td>2016-11-08</td>\n",
       "      <td>2016-11-11</td>\n",
       "      <td>Second Class</td>\n",
       "      <td>CG-12520</td>\n",
       "      <td>Claire Gute</td>\n",
       "      <td>Consumer</td>\n",
       "      <td>United States</td>\n",
       "      <td>Henderson</td>\n",
       "      <td>...</td>\n",
       "      <td>42420</td>\n",
       "      <td>South</td>\n",
       "      <td>FUR-CH-10000454</td>\n",
       "      <td>Furniture</td>\n",
       "      <td>Chairs</td>\n",
       "      <td>Hon Deluxe Fabric Upholstered Stacking Chairs,...</td>\n",
       "      <td>731.9400</td>\n",
       "      <td>3</td>\n",
       "      <td>0.00</td>\n",
       "      <td>219.5820</td>\n",
       "    </tr>\n",
       "    <tr>\n",
       "      <th>2</th>\n",
       "      <td>3</td>\n",
       "      <td>CA-2016-138688</td>\n",
       "      <td>2016-06-12</td>\n",
       "      <td>2016-06-16</td>\n",
       "      <td>Second Class</td>\n",
       "      <td>DV-13045</td>\n",
       "      <td>Darrin Van Huff</td>\n",
       "      <td>Corporate</td>\n",
       "      <td>United States</td>\n",
       "      <td>Los Angeles</td>\n",
       "      <td>...</td>\n",
       "      <td>90036</td>\n",
       "      <td>West</td>\n",
       "      <td>OFF-LA-10000240</td>\n",
       "      <td>Office Supplies</td>\n",
       "      <td>Labels</td>\n",
       "      <td>Self-Adhesive Address Labels for Typewriters b...</td>\n",
       "      <td>14.6200</td>\n",
       "      <td>2</td>\n",
       "      <td>0.00</td>\n",
       "      <td>6.8714</td>\n",
       "    </tr>\n",
       "    <tr>\n",
       "      <th>3</th>\n",
       "      <td>4</td>\n",
       "      <td>US-2015-108966</td>\n",
       "      <td>2015-10-11</td>\n",
       "      <td>2015-10-18</td>\n",
       "      <td>Standard Class</td>\n",
       "      <td>SO-20335</td>\n",
       "      <td>Sean O'Donnell</td>\n",
       "      <td>Consumer</td>\n",
       "      <td>United States</td>\n",
       "      <td>Fort Lauderdale</td>\n",
       "      <td>...</td>\n",
       "      <td>33311</td>\n",
       "      <td>South</td>\n",
       "      <td>FUR-TA-10000577</td>\n",
       "      <td>Furniture</td>\n",
       "      <td>Tables</td>\n",
       "      <td>Bretford CR4500 Series Slim Rectangular Table</td>\n",
       "      <td>957.5775</td>\n",
       "      <td>5</td>\n",
       "      <td>0.45</td>\n",
       "      <td>-383.0310</td>\n",
       "    </tr>\n",
       "    <tr>\n",
       "      <th>4</th>\n",
       "      <td>5</td>\n",
       "      <td>US-2015-108966</td>\n",
       "      <td>2015-10-11</td>\n",
       "      <td>2015-10-18</td>\n",
       "      <td>Standard Class</td>\n",
       "      <td>SO-20335</td>\n",
       "      <td>Sean O'Donnell</td>\n",
       "      <td>Consumer</td>\n",
       "      <td>United States</td>\n",
       "      <td>Fort Lauderdale</td>\n",
       "      <td>...</td>\n",
       "      <td>33311</td>\n",
       "      <td>South</td>\n",
       "      <td>OFF-ST-10000760</td>\n",
       "      <td>Office Supplies</td>\n",
       "      <td>Storage</td>\n",
       "      <td>Eldon Fold 'N Roll Cart System</td>\n",
       "      <td>22.3680</td>\n",
       "      <td>2</td>\n",
       "      <td>0.20</td>\n",
       "      <td>2.5164</td>\n",
       "    </tr>\n",
       "  </tbody>\n",
       "</table>\n",
       "<p>5 rows × 21 columns</p>\n",
       "</div>"
      ],
      "text/plain": [
       "   Row ID        Order ID Order Date  Ship Date       Ship Mode Customer ID  \\\n",
       "0       1  CA-2016-152156 2016-11-08 2016-11-11    Second Class    CG-12520   \n",
       "1       2  CA-2016-152156 2016-11-08 2016-11-11    Second Class    CG-12520   \n",
       "2       3  CA-2016-138688 2016-06-12 2016-06-16    Second Class    DV-13045   \n",
       "3       4  US-2015-108966 2015-10-11 2015-10-18  Standard Class    SO-20335   \n",
       "4       5  US-2015-108966 2015-10-11 2015-10-18  Standard Class    SO-20335   \n",
       "\n",
       "     Customer Name    Segment        Country             City  ...  \\\n",
       "0      Claire Gute   Consumer  United States        Henderson  ...   \n",
       "1      Claire Gute   Consumer  United States        Henderson  ...   \n",
       "2  Darrin Van Huff  Corporate  United States      Los Angeles  ...   \n",
       "3   Sean O'Donnell   Consumer  United States  Fort Lauderdale  ...   \n",
       "4   Sean O'Donnell   Consumer  United States  Fort Lauderdale  ...   \n",
       "\n",
       "  Postal Code  Region       Product ID         Category Sub-Category  \\\n",
       "0       42420   South  FUR-BO-10001798        Furniture    Bookcases   \n",
       "1       42420   South  FUR-CH-10000454        Furniture       Chairs   \n",
       "2       90036    West  OFF-LA-10000240  Office Supplies       Labels   \n",
       "3       33311   South  FUR-TA-10000577        Furniture       Tables   \n",
       "4       33311   South  OFF-ST-10000760  Office Supplies      Storage   \n",
       "\n",
       "                                        Product Name     Sales  Quantity  \\\n",
       "0                  Bush Somerset Collection Bookcase  261.9600         2   \n",
       "1  Hon Deluxe Fabric Upholstered Stacking Chairs,...  731.9400         3   \n",
       "2  Self-Adhesive Address Labels for Typewriters b...   14.6200         2   \n",
       "3      Bretford CR4500 Series Slim Rectangular Table  957.5775         5   \n",
       "4                     Eldon Fold 'N Roll Cart System   22.3680         2   \n",
       "\n",
       "   Discount    Profit  \n",
       "0      0.00   41.9136  \n",
       "1      0.00  219.5820  \n",
       "2      0.00    6.8714  \n",
       "3      0.45 -383.0310  \n",
       "4      0.20    2.5164  \n",
       "\n",
       "[5 rows x 21 columns]"
      ]
     },
     "execution_count": 4,
     "metadata": {},
     "output_type": "execute_result"
    }
   ],
   "source": [
    "#b. Look at the first 5 records of the data\n",
    "five_rec = df.head()\n",
    "print(\"The first 5 records of the data are:\")\n",
    "five_rec"
   ]
  },
  {
   "cell_type": "code",
   "execution_count": 5,
   "metadata": {},
   "outputs": [
    {
     "name": "stdout",
     "output_type": "stream",
     "text": [
      "The columns contained in the data are:\n",
      "Row ID\n",
      "Order ID\n",
      "Order Date\n",
      "Ship Date\n",
      "Ship Mode\n",
      "Customer ID\n",
      "Customer Name\n",
      "Segment\n",
      "Country\n",
      "City\n",
      "State\n",
      "Postal Code\n",
      "Region\n",
      "Product ID\n",
      "Category\n",
      "Sub-Category\n",
      "Product Name\n",
      "Sales\n",
      "Quantity\n",
      "Discount\n",
      "Profit\n"
     ]
    }
   ],
   "source": [
    "# c.Print the columns contained in the data\n",
    "print(\"The columns contained in the data are:\")\n",
    "for col in df.columns: \n",
    "    print(col) "
   ]
  },
  {
   "cell_type": "code",
   "execution_count": 6,
   "metadata": {},
   "outputs": [
    {
     "data": {
      "text/html": [
       "<div>\n",
       "<style scoped>\n",
       "    .dataframe tbody tr th:only-of-type {\n",
       "        vertical-align: middle;\n",
       "    }\n",
       "\n",
       "    .dataframe tbody tr th {\n",
       "        vertical-align: top;\n",
       "    }\n",
       "\n",
       "    .dataframe thead th {\n",
       "        text-align: right;\n",
       "    }\n",
       "</style>\n",
       "<table border=\"1\" class=\"dataframe\">\n",
       "  <thead>\n",
       "    <tr style=\"text-align: right;\">\n",
       "      <th></th>\n",
       "      <th>Row ID</th>\n",
       "      <th>Postal Code</th>\n",
       "      <th>Sales</th>\n",
       "      <th>Quantity</th>\n",
       "      <th>Discount</th>\n",
       "      <th>Profit</th>\n",
       "    </tr>\n",
       "  </thead>\n",
       "  <tbody>\n",
       "    <tr>\n",
       "      <th>count</th>\n",
       "      <td>9994.000000</td>\n",
       "      <td>9994.000000</td>\n",
       "      <td>9994.000000</td>\n",
       "      <td>9994.000000</td>\n",
       "      <td>9994.000000</td>\n",
       "      <td>9994.000000</td>\n",
       "    </tr>\n",
       "    <tr>\n",
       "      <th>mean</th>\n",
       "      <td>4997.500000</td>\n",
       "      <td>55190.379428</td>\n",
       "      <td>229.858001</td>\n",
       "      <td>3.789574</td>\n",
       "      <td>0.156203</td>\n",
       "      <td>28.656896</td>\n",
       "    </tr>\n",
       "    <tr>\n",
       "      <th>std</th>\n",
       "      <td>2885.163629</td>\n",
       "      <td>32063.693350</td>\n",
       "      <td>623.245101</td>\n",
       "      <td>2.225110</td>\n",
       "      <td>0.206452</td>\n",
       "      <td>234.260108</td>\n",
       "    </tr>\n",
       "    <tr>\n",
       "      <th>min</th>\n",
       "      <td>1.000000</td>\n",
       "      <td>1040.000000</td>\n",
       "      <td>0.444000</td>\n",
       "      <td>1.000000</td>\n",
       "      <td>0.000000</td>\n",
       "      <td>-6599.978000</td>\n",
       "    </tr>\n",
       "    <tr>\n",
       "      <th>25%</th>\n",
       "      <td>2499.250000</td>\n",
       "      <td>23223.000000</td>\n",
       "      <td>17.280000</td>\n",
       "      <td>2.000000</td>\n",
       "      <td>0.000000</td>\n",
       "      <td>1.728750</td>\n",
       "    </tr>\n",
       "    <tr>\n",
       "      <th>50%</th>\n",
       "      <td>4997.500000</td>\n",
       "      <td>56430.500000</td>\n",
       "      <td>54.490000</td>\n",
       "      <td>3.000000</td>\n",
       "      <td>0.200000</td>\n",
       "      <td>8.666500</td>\n",
       "    </tr>\n",
       "    <tr>\n",
       "      <th>75%</th>\n",
       "      <td>7495.750000</td>\n",
       "      <td>90008.000000</td>\n",
       "      <td>209.940000</td>\n",
       "      <td>5.000000</td>\n",
       "      <td>0.200000</td>\n",
       "      <td>29.364000</td>\n",
       "    </tr>\n",
       "    <tr>\n",
       "      <th>max</th>\n",
       "      <td>9994.000000</td>\n",
       "      <td>99301.000000</td>\n",
       "      <td>22638.480000</td>\n",
       "      <td>14.000000</td>\n",
       "      <td>0.800000</td>\n",
       "      <td>8399.976000</td>\n",
       "    </tr>\n",
       "  </tbody>\n",
       "</table>\n",
       "</div>"
      ],
      "text/plain": [
       "            Row ID   Postal Code         Sales     Quantity     Discount  \\\n",
       "count  9994.000000   9994.000000   9994.000000  9994.000000  9994.000000   \n",
       "mean   4997.500000  55190.379428    229.858001     3.789574     0.156203   \n",
       "std    2885.163629  32063.693350    623.245101     2.225110     0.206452   \n",
       "min       1.000000   1040.000000      0.444000     1.000000     0.000000   \n",
       "25%    2499.250000  23223.000000     17.280000     2.000000     0.000000   \n",
       "50%    4997.500000  56430.500000     54.490000     3.000000     0.200000   \n",
       "75%    7495.750000  90008.000000    209.940000     5.000000     0.200000   \n",
       "max    9994.000000  99301.000000  22638.480000    14.000000     0.800000   \n",
       "\n",
       "            Profit  \n",
       "count  9994.000000  \n",
       "mean     28.656896  \n",
       "std     234.260108  \n",
       "min   -6599.978000  \n",
       "25%       1.728750  \n",
       "50%       8.666500  \n",
       "75%      29.364000  \n",
       "max    8399.976000  "
      ]
     },
     "execution_count": 6,
     "metadata": {},
     "output_type": "execute_result"
    }
   ],
   "source": [
    "# d.Print the attributes like count , mean , max , min, standard deviation etc\n",
    "df.describe()"
   ]
  },
  {
   "cell_type": "code",
   "execution_count": 7,
   "metadata": {},
   "outputs": [
    {
     "data": {
      "text/plain": [
       "Row ID           False\n",
       "Order ID         False\n",
       "Order Date       False\n",
       "Ship Date        False\n",
       "Ship Mode        False\n",
       "Customer ID      False\n",
       "Customer Name    False\n",
       "Segment          False\n",
       "Country          False\n",
       "City             False\n",
       "State            False\n",
       "Postal Code      False\n",
       "Region           False\n",
       "Product ID       False\n",
       "Category         False\n",
       "Sub-Category     False\n",
       "Product Name     False\n",
       "Sales            False\n",
       "Quantity         False\n",
       "Discount         False\n",
       "Profit           False\n",
       "dtype: bool"
      ]
     },
     "execution_count": 7,
     "metadata": {},
     "output_type": "execute_result"
    }
   ],
   "source": [
    "# e.Find out are there any missing or null values in the data for all columns\n",
    "# df.dropna(axis=1)\n",
    "df.isnull().any()"
   ]
  },
  {
   "cell_type": "markdown",
   "metadata": {},
   "source": [
    "### Task 3: Find out the per unit price from the data"
   ]
  },
  {
   "cell_type": "code",
   "execution_count": 8,
   "metadata": {},
   "outputs": [
    {
     "name": "stdout",
     "output_type": "stream",
     "text": [
      "<class 'pandas.core.frame.DataFrame'>\n",
      "RangeIndex: 9994 entries, 0 to 9993\n",
      "Data columns (total 21 columns):\n",
      " #   Column         Non-Null Count  Dtype         \n",
      "---  ------         --------------  -----         \n",
      " 0   Row ID         9994 non-null   int64         \n",
      " 1   Order ID       9994 non-null   object        \n",
      " 2   Order Date     9994 non-null   datetime64[ns]\n",
      " 3   Ship Date      9994 non-null   datetime64[ns]\n",
      " 4   Ship Mode      9994 non-null   object        \n",
      " 5   Customer ID    9994 non-null   object        \n",
      " 6   Customer Name  9994 non-null   object        \n",
      " 7   Segment        9994 non-null   object        \n",
      " 8   Country        9994 non-null   object        \n",
      " 9   City           9994 non-null   object        \n",
      " 10  State          9994 non-null   object        \n",
      " 11  Postal Code    9994 non-null   int64         \n",
      " 12  Region         9994 non-null   object        \n",
      " 13  Product ID     9994 non-null   object        \n",
      " 14  Category       9994 non-null   object        \n",
      " 15  Sub-Category   9994 non-null   object        \n",
      " 16  Product Name   9994 non-null   object        \n",
      " 17  Sales          9994 non-null   float64       \n",
      " 18  Quantity       9994 non-null   int64         \n",
      " 19  Discount       9994 non-null   float64       \n",
      " 20  Profit         9994 non-null   float64       \n",
      "dtypes: datetime64[ns](2), float64(3), int64(3), object(13)\n",
      "memory usage: 1.6+ MB\n"
     ]
    }
   ],
   "source": [
    "# a. Convert date time field into pandas time object\n",
    "df['Order Date'] = pd.to_datetime(df['Order Date']) \n",
    "df.info()"
   ]
  },
  {
   "cell_type": "code",
   "execution_count": 9,
   "metadata": {},
   "outputs": [],
   "source": [
    "#b. Find out the price per unit from the data and create a column for it in the same data\n",
    "df[\"Price per unit\"] = df[\"Sales\"]/df[\"Quantity\"]\n",
    "# df.head()"
   ]
  },
  {
   "cell_type": "markdown",
   "metadata": {},
   "source": [
    "### Task 4: Find out the monthly revenue and analyze the findings"
   ]
  },
  {
   "cell_type": "code",
   "execution_count": 10,
   "metadata": {},
   "outputs": [],
   "source": [
    "# a.Create a column with Year and month field only give a suitable name to it\n",
    "df[\"Year-Month\"] = df['Order Date'].dt.strftime('%Y-%m')\n",
    "# df.head()"
   ]
  },
  {
   "cell_type": "code",
   "execution_count": 11,
   "metadata": {
    "scrolled": false
   },
   "outputs": [],
   "source": [
    "# b.Create a separate dataset from the data which will have two columns, one which is created in step a of this task and \n",
    "# second the monthly sales / revenue\n",
    "Monthly_sales_dataset = pd.DataFrame(df.groupby('Year-Month').sum()['Sales'])\n",
    "Months = [Months for Months, df in df.groupby('Year-Month')]"
   ]
  },
  {
   "cell_type": "code",
   "execution_count": 12,
   "metadata": {},
   "outputs": [
    {
     "data": {
      "image/png": "[encoded data removed]",
      "text/plain": [
       "<Figure size 1440x360 with 1 Axes>"
      ]
     },
     "metadata": {
      "needs_background": "light"
     },
     "output_type": "display_data"
    }
   ],
   "source": [
    "# c.Plot this dataset\n",
    "# new_dataset.plot('Year-Month','Monthly Sales')\n",
    "plt.figure(figsize=(20,5))\n",
    "plt.plot(Months,Monthly_sales_dataset['Sales'])\n",
    "plt.xticks(Months, rotation='vertical', size = 8)\n",
    "plt.title('Monthly Revenue')\n",
    "plt.ylabel('Sales')\n",
    "plt.xlabel('Year-Month')\n",
    "plt.show()"
   ]
  },
  {
   "cell_type": "code",
   "execution_count": 13,
   "metadata": {},
   "outputs": [
    {
     "data": {
      "text/plain": [
       "'\\n From the graph observations, the sales is not much consistent. The sales was the lowest in February,2014 and was the highest in November,2017. \\n'"
      ]
     },
     "execution_count": 13,
     "metadata": {},
     "output_type": "execute_result"
    }
   ],
   "source": [
    "# d.Describe your analysis for the monthly revenue observations.\n",
    "'''\n",
    " From the graph observations, the sales is not much consistent. The sales was the lowest in February,2014 and was the highest in November,2017. \n",
    "'''"
   ]
  },
  {
   "cell_type": "markdown",
   "metadata": {},
   "source": [
    "### Task 5: Find out the yearly revenue and analyze the findings"
   ]
  },
  {
   "cell_type": "code",
   "execution_count": 14,
   "metadata": {},
   "outputs": [],
   "source": [
    "# a. Create a column with Year field only give a suitable name to it\n",
    "df[\"Year\"] = df['Order Date'].dt.strftime('%Y')\n"
   ]
  },
  {
   "cell_type": "code",
   "execution_count": 15,
   "metadata": {},
   "outputs": [],
   "source": [
    "# b.Create a separate dataset from the data which will have two columns , one which is created in step a of \n",
    "# this task and second the yearly sales / revenue\n",
    "Yearly_sales_dataset = pd.DataFrame(df.groupby('Year').sum()['Sales'])\n",
    "Years = [Years for Years, df in df.groupby('Year')]"
   ]
  },
  {
   "cell_type": "code",
   "execution_count": 16,
   "metadata": {},
   "outputs": [
    {
     "data": {
      "text/plain": [
       "Text(0.5, 0, 'Year')"
      ]
     },
     "execution_count": 16,
     "metadata": {},
     "output_type": "execute_result"
    },
    {
     "data": {
      "image/png": "[encoded data removed]",
      "text/plain": [
       "<Figure size 432x288 with 1 Axes>"
      ]
     },
     "metadata": {
      "needs_background": "light"
     },
     "output_type": "display_data"
    }
   ],
   "source": [
    "# c.Plot this dataset\n",
    "Yearly_sales_dataset.plot()\n",
    "plt.title('Yearly Revenue')\n",
    "plt.ylabel('Sales')\n",
    "plt.xlabel('Year')"
   ]
  },
  {
   "cell_type": "code",
   "execution_count": 17,
   "metadata": {},
   "outputs": [
    {
     "data": {
      "text/plain": [
       "'\\n The sales were lowest in 2015 and it was highest in 2017, its sales were greater than 700000. \\nThe sales was first decreasing from 2014 to 2015 but it increased from 2015 to 2017\\n'"
      ]
     },
     "execution_count": 17,
     "metadata": {},
     "output_type": "execute_result"
    }
   ],
   "source": [
    "# d.Describe your analysis for the yearly revenue observations. \n",
    "'''\n",
    " The sales were lowest in 2015 and it was highest in 2017, its sales were greater than 700000. \n",
    "The sales was first decreasing from 2014 to 2015 but it increased from 2015 to 2017\n",
    "'''"
   ]
  },
  {
   "cell_type": "markdown",
   "metadata": {},
   "source": [
    "### Task 6: Finding out the monthly growth rate and analyse the findings"
   ]
  },
  {
   "cell_type": "code",
   "execution_count": 18,
   "metadata": {},
   "outputs": [],
   "source": [
    "# a.Create a column in the monthly revenue dataset for monthly growth rate\n",
    "Monthly_sales_dataset['Last_Month'] = np.roll(Monthly_sales_dataset['Sales'],1)\n",
    "Monthly_sales_dataset = Monthly_sales_dataset.drop(Monthly_sales_dataset.index[0])\n",
    "Monthly_sales_dataset['Growth Rate'] = (Monthly_sales_dataset['Sales']/Monthly_sales_dataset['Last_Month'])-1\n",
    "#Now, since the monthly growth rate of first month cannot be found since we donot have it's previous month value.\n",
    "#By default, python has put the last value in the column and rolled up over there. SO we need to remove that.\n",
    "\n"
   ]
  },
  {
   "cell_type": "code",
   "execution_count": 19,
   "metadata": {},
   "outputs": [
    {
     "data": {
      "text/plain": [
       "Text(0.5, 1.0, 'Monthly Growth Rate')"
      ]
     },
     "execution_count": 19,
     "metadata": {},
     "output_type": "execute_result"
    },
    {
     "data": {
      "image/png": "[encoded data removed]",
      "text/plain": [
       "<Figure size 1080x360 with 1 Axes>"
      ]
     },
     "metadata": {
      "needs_background": "light"
     },
     "output_type": "display_data"
    }
   ],
   "source": [
    "# c.Plot the findings\n",
    "results = Monthly_sales_dataset.drop(columns = [\"Sales\", \"Last_Month\"])\n",
    "results['Months'] = results.index\n",
    "results.reset_index(drop=True, inplace=True)\n",
    "plt.figure(figsize=(15,5))\n",
    "plt.bar(results['Months'],results['Growth Rate']*100, color = '#b80045')\n",
    "plt.xticks(results['Months'], rotation='vertical', size = 8)\n",
    "plt.ylabel('% Growth')\n",
    "plt.xlabel('Year-Months')\n",
    "plt.title(\"Monthly Growth Rate\")"
   ]
  },
  {
   "cell_type": "code",
   "execution_count": 20,
   "metadata": {},
   "outputs": [
    {
     "data": {
      "text/html": [
       "<div>\n",
       "<style scoped>\n",
       "    .dataframe tbody tr th:only-of-type {\n",
       "        vertical-align: middle;\n",
       "    }\n",
       "\n",
       "    .dataframe tbody tr th {\n",
       "        vertical-align: top;\n",
       "    }\n",
       "\n",
       "    .dataframe thead th {\n",
       "        text-align: right;\n",
       "    }\n",
       "</style>\n",
       "<table border=\"1\" class=\"dataframe\">\n",
       "  <thead>\n",
       "    <tr style=\"text-align: right;\">\n",
       "      <th></th>\n",
       "      <th>Sales</th>\n",
       "      <th>Last_Month</th>\n",
       "      <th>Growth Rate</th>\n",
       "    </tr>\n",
       "    <tr>\n",
       "      <th>Year-Month</th>\n",
       "      <th></th>\n",
       "      <th></th>\n",
       "      <th></th>\n",
       "    </tr>\n",
       "  </thead>\n",
       "  <tbody>\n",
       "    <tr>\n",
       "      <th>2014-03</th>\n",
       "      <td>55691.009</td>\n",
       "      <td>4519.892</td>\n",
       "      <td>11.321314</td>\n",
       "    </tr>\n",
       "  </tbody>\n",
       "</table>\n",
       "</div>"
      ],
      "text/plain": [
       "                Sales  Last_Month  Growth Rate\n",
       "Year-Month                                    \n",
       "2014-03     55691.009    4519.892    11.321314"
      ]
     },
     "execution_count": 20,
     "metadata": {},
     "output_type": "execute_result"
    }
   ],
   "source": [
    "# b. Find out the maximum monthly growth rate\n",
    "Monthly_sales_dataset.sort_values(by=['Growth Rate'], inplace=True, ascending=False)\n",
    "Monthly_sales_dataset.head(1)"
   ]
  },
  {
   "cell_type": "code",
   "execution_count": 21,
   "metadata": {},
   "outputs": [
    {
     "data": {
      "text/plain": [
       "'\\nAccording to the observations from the graph, we can see that the monthly growth rate was good (positive) and in some duration it was also negative and zero. \\nThe monthly growth rate was the highest in March 2014. \\n'"
      ]
     },
     "execution_count": 21,
     "metadata": {},
     "output_type": "execute_result"
    }
   ],
   "source": [
    "# d.Describe the findings\n",
    "'''\n",
    "According to the observations from the graph, we can see that the monthly growth rate was good (positive) and in some duration it was also negative and zero. \n",
    "The monthly growth rate was the highest in March 2014. \n",
    "'''"
   ]
  },
  {
   "cell_type": "markdown",
   "metadata": {},
   "source": [
    "### Task 7: Finding out the most and least sold product id"
   ]
  },
  {
   "cell_type": "code",
   "execution_count": 22,
   "metadata": {},
   "outputs": [
    {
     "data": {
      "text/html": [
       "<div>\n",
       "<style scoped>\n",
       "    .dataframe tbody tr th:only-of-type {\n",
       "        vertical-align: middle;\n",
       "    }\n",
       "\n",
       "    .dataframe tbody tr th {\n",
       "        vertical-align: top;\n",
       "    }\n",
       "\n",
       "    .dataframe thead th {\n",
       "        text-align: right;\n",
       "    }\n",
       "</style>\n",
       "<table border=\"1\" class=\"dataframe\">\n",
       "  <thead>\n",
       "    <tr style=\"text-align: right;\">\n",
       "      <th></th>\n",
       "      <th>Product ID</th>\n",
       "      <th>Quantity</th>\n",
       "    </tr>\n",
       "  </thead>\n",
       "  <tbody>\n",
       "    <tr>\n",
       "      <th>0</th>\n",
       "      <td>FUR-BO-10001798</td>\n",
       "      <td>2</td>\n",
       "    </tr>\n",
       "    <tr>\n",
       "      <th>1</th>\n",
       "      <td>FUR-CH-10000454</td>\n",
       "      <td>3</td>\n",
       "    </tr>\n",
       "    <tr>\n",
       "      <th>2</th>\n",
       "      <td>OFF-LA-10000240</td>\n",
       "      <td>2</td>\n",
       "    </tr>\n",
       "    <tr>\n",
       "      <th>3</th>\n",
       "      <td>FUR-TA-10000577</td>\n",
       "      <td>5</td>\n",
       "    </tr>\n",
       "    <tr>\n",
       "      <th>4</th>\n",
       "      <td>OFF-ST-10000760</td>\n",
       "      <td>2</td>\n",
       "    </tr>\n",
       "    <tr>\n",
       "      <th>...</th>\n",
       "      <td>...</td>\n",
       "      <td>...</td>\n",
       "    </tr>\n",
       "    <tr>\n",
       "      <th>9989</th>\n",
       "      <td>FUR-FU-10001889</td>\n",
       "      <td>3</td>\n",
       "    </tr>\n",
       "    <tr>\n",
       "      <th>9990</th>\n",
       "      <td>FUR-FU-10000747</td>\n",
       "      <td>2</td>\n",
       "    </tr>\n",
       "    <tr>\n",
       "      <th>9991</th>\n",
       "      <td>TEC-PH-10003645</td>\n",
       "      <td>2</td>\n",
       "    </tr>\n",
       "    <tr>\n",
       "      <th>9992</th>\n",
       "      <td>OFF-PA-10004041</td>\n",
       "      <td>4</td>\n",
       "    </tr>\n",
       "    <tr>\n",
       "      <th>9993</th>\n",
       "      <td>OFF-AP-10002684</td>\n",
       "      <td>2</td>\n",
       "    </tr>\n",
       "  </tbody>\n",
       "</table>\n",
       "<p>9994 rows × 2 columns</p>\n",
       "</div>"
      ],
      "text/plain": [
       "           Product ID  Quantity\n",
       "0     FUR-BO-10001798         2\n",
       "1     FUR-CH-10000454         3\n",
       "2     OFF-LA-10000240         2\n",
       "3     FUR-TA-10000577         5\n",
       "4     OFF-ST-10000760         2\n",
       "...               ...       ...\n",
       "9989  FUR-FU-10001889         3\n",
       "9990  FUR-FU-10000747         2\n",
       "9991  TEC-PH-10003645         2\n",
       "9992  OFF-PA-10004041         4\n",
       "9993  OFF-AP-10002684         2\n",
       "\n",
       "[9994 rows x 2 columns]"
      ]
     },
     "execution_count": 22,
     "metadata": {},
     "output_type": "execute_result"
    }
   ],
   "source": [
    "# a.Create a new dataset including the product ids and total quantities sold for that id\n",
    "new_dataset1 = df[['Product ID','Quantity']].copy()\n",
    "new_dataset1"
   ]
  },
  {
   "cell_type": "code",
   "execution_count": 23,
   "metadata": {},
   "outputs": [
    {
     "data": {
      "text/html": [
       "<div>\n",
       "<style scoped>\n",
       "    .dataframe tbody tr th:only-of-type {\n",
       "        vertical-align: middle;\n",
       "    }\n",
       "\n",
       "    .dataframe tbody tr th {\n",
       "        vertical-align: top;\n",
       "    }\n",
       "\n",
       "    .dataframe thead th {\n",
       "        text-align: right;\n",
       "    }\n",
       "</style>\n",
       "<table border=\"1\" class=\"dataframe\">\n",
       "  <thead>\n",
       "    <tr style=\"text-align: right;\">\n",
       "      <th></th>\n",
       "      <th>Quantity</th>\n",
       "    </tr>\n",
       "    <tr>\n",
       "      <th>Product ID</th>\n",
       "      <th></th>\n",
       "    </tr>\n",
       "  </thead>\n",
       "  <tbody>\n",
       "    <tr>\n",
       "      <th>TEC-AC-10003832</th>\n",
       "      <td>75</td>\n",
       "    </tr>\n",
       "  </tbody>\n",
       "</table>\n",
       "</div>"
      ],
      "text/plain": [
       "                 Quantity\n",
       "Product ID               \n",
       "TEC-AC-10003832        75"
      ]
     },
     "execution_count": 23,
     "metadata": {},
     "output_type": "execute_result"
    }
   ],
   "source": [
    "# b.Find out the most sold product from the created dataset\n",
    "most_sold = pd.DataFrame(new_dataset1.groupby('Product ID').sum()['Quantity'])\n",
    "most_sold.sort_values(by=['Quantity'], inplace=True, ascending=False)\n",
    "most_sold.head(1)"
   ]
  },
  {
   "cell_type": "markdown",
   "metadata": {},
   "source": [
    "### Task 8:"
   ]
  },
  {
   "cell_type": "code",
   "execution_count": 24,
   "metadata": {},
   "outputs": [
    {
     "data": {
      "text/html": [
       "<div>\n",
       "<style scoped>\n",
       "    .dataframe tbody tr th:only-of-type {\n",
       "        vertical-align: middle;\n",
       "    }\n",
       "\n",
       "    .dataframe tbody tr th {\n",
       "        vertical-align: top;\n",
       "    }\n",
       "\n",
       "    .dataframe thead th {\n",
       "        text-align: right;\n",
       "    }\n",
       "</style>\n",
       "<table border=\"1\" class=\"dataframe\">\n",
       "  <thead>\n",
       "    <tr style=\"text-align: right;\">\n",
       "      <th></th>\n",
       "      <th>Customer Name</th>\n",
       "      <th>Quantity</th>\n",
       "    </tr>\n",
       "  </thead>\n",
       "  <tbody>\n",
       "    <tr>\n",
       "      <th>0</th>\n",
       "      <td>Claire Gute</td>\n",
       "      <td>2</td>\n",
       "    </tr>\n",
       "    <tr>\n",
       "      <th>1</th>\n",
       "      <td>Claire Gute</td>\n",
       "      <td>3</td>\n",
       "    </tr>\n",
       "    <tr>\n",
       "      <th>2</th>\n",
       "      <td>Darrin Van Huff</td>\n",
       "      <td>2</td>\n",
       "    </tr>\n",
       "    <tr>\n",
       "      <th>3</th>\n",
       "      <td>Sean O'Donnell</td>\n",
       "      <td>5</td>\n",
       "    </tr>\n",
       "    <tr>\n",
       "      <th>4</th>\n",
       "      <td>Sean O'Donnell</td>\n",
       "      <td>2</td>\n",
       "    </tr>\n",
       "    <tr>\n",
       "      <th>...</th>\n",
       "      <td>...</td>\n",
       "      <td>...</td>\n",
       "    </tr>\n",
       "    <tr>\n",
       "      <th>9989</th>\n",
       "      <td>Tom Boeckenhauer</td>\n",
       "      <td>3</td>\n",
       "    </tr>\n",
       "    <tr>\n",
       "      <th>9990</th>\n",
       "      <td>Dave Brooks</td>\n",
       "      <td>2</td>\n",
       "    </tr>\n",
       "    <tr>\n",
       "      <th>9991</th>\n",
       "      <td>Dave Brooks</td>\n",
       "      <td>2</td>\n",
       "    </tr>\n",
       "    <tr>\n",
       "      <th>9992</th>\n",
       "      <td>Dave Brooks</td>\n",
       "      <td>4</td>\n",
       "    </tr>\n",
       "    <tr>\n",
       "      <th>9993</th>\n",
       "      <td>Chris Cortes</td>\n",
       "      <td>2</td>\n",
       "    </tr>\n",
       "  </tbody>\n",
       "</table>\n",
       "<p>9994 rows × 2 columns</p>\n",
       "</div>"
      ],
      "text/plain": [
       "         Customer Name  Quantity\n",
       "0          Claire Gute         2\n",
       "1          Claire Gute         3\n",
       "2      Darrin Van Huff         2\n",
       "3       Sean O'Donnell         5\n",
       "4       Sean O'Donnell         2\n",
       "...                ...       ...\n",
       "9989  Tom Boeckenhauer         3\n",
       "9990       Dave Brooks         2\n",
       "9991       Dave Brooks         2\n",
       "9992       Dave Brooks         4\n",
       "9993      Chris Cortes         2\n",
       "\n",
       "[9994 rows x 2 columns]"
      ]
     },
     "execution_count": 24,
     "metadata": {},
     "output_type": "execute_result"
    }
   ],
   "source": [
    "new_dataset2 = df[['Customer Name','Quantity']].copy()\n",
    "new_dataset2"
   ]
  },
  {
   "cell_type": "code",
   "execution_count": 25,
   "metadata": {},
   "outputs": [
    {
     "data": {
      "text/html": [
       "<div>\n",
       "<style scoped>\n",
       "    .dataframe tbody tr th:only-of-type {\n",
       "        vertical-align: middle;\n",
       "    }\n",
       "\n",
       "    .dataframe tbody tr th {\n",
       "        vertical-align: top;\n",
       "    }\n",
       "\n",
       "    .dataframe thead th {\n",
       "        text-align: right;\n",
       "    }\n",
       "</style>\n",
       "<table border=\"1\" class=\"dataframe\">\n",
       "  <thead>\n",
       "    <tr style=\"text-align: right;\">\n",
       "      <th></th>\n",
       "      <th>Quantity</th>\n",
       "    </tr>\n",
       "    <tr>\n",
       "      <th>Customer Name</th>\n",
       "      <th></th>\n",
       "    </tr>\n",
       "  </thead>\n",
       "  <tbody>\n",
       "    <tr>\n",
       "      <th>Jonathan Doherty</th>\n",
       "      <td>150</td>\n",
       "    </tr>\n",
       "  </tbody>\n",
       "</table>\n",
       "</div>"
      ],
      "text/plain": [
       "                  Quantity\n",
       "Customer Name             \n",
       "Jonathan Doherty       150"
      ]
     },
     "execution_count": 25,
     "metadata": {},
     "output_type": "execute_result"
    }
   ],
   "source": [
    "cust_name = pd.DataFrame(new_dataset2.groupby('Customer Name').sum()['Quantity'])\n",
    "cust_name.sort_values(by=['Quantity'], inplace=True, ascending=False)\n",
    "cust_name.head(1)"
   ]
  },
  {
   "cell_type": "markdown",
   "metadata": {},
   "source": [
    "### Task 9: Finding out the customer who bought most and least from us in terms of value\n"
   ]
  },
  {
   "cell_type": "code",
   "execution_count": 26,
   "metadata": {},
   "outputs": [],
   "source": [
    "# a.Create a dataset containing name and sales generated by him\n",
    "new_dataset3 = df[['Customer Name','Sales']].copy()\n"
   ]
  },
  {
   "cell_type": "code",
   "execution_count": 27,
   "metadata": {},
   "outputs": [
    {
     "data": {
      "text/html": [
       "<div>\n",
       "<style scoped>\n",
       "    .dataframe tbody tr th:only-of-type {\n",
       "        vertical-align: middle;\n",
       "    }\n",
       "\n",
       "    .dataframe tbody tr th {\n",
       "        vertical-align: top;\n",
       "    }\n",
       "\n",
       "    .dataframe thead th {\n",
       "        text-align: right;\n",
       "    }\n",
       "</style>\n",
       "<table border=\"1\" class=\"dataframe\">\n",
       "  <thead>\n",
       "    <tr style=\"text-align: right;\">\n",
       "      <th></th>\n",
       "      <th>Sales</th>\n",
       "    </tr>\n",
       "    <tr>\n",
       "      <th>Customer Name</th>\n",
       "      <th></th>\n",
       "    </tr>\n",
       "  </thead>\n",
       "  <tbody>\n",
       "    <tr>\n",
       "      <th>Sean Miller</th>\n",
       "      <td>25043.05</td>\n",
       "    </tr>\n",
       "  </tbody>\n",
       "</table>\n",
       "</div>"
      ],
      "text/plain": [
       "                  Sales\n",
       "Customer Name          \n",
       "Sean Miller    25043.05"
      ]
     },
     "execution_count": 27,
     "metadata": {},
     "output_type": "execute_result"
    }
   ],
   "source": [
    "# b.Find out the customer name and sales, who bought maximum in value\n",
    "cust_sales = pd.DataFrame(new_dataset3.groupby('Customer Name').sum()['Sales'])\n",
    "cust_sales.sort_values(by=['Sales'], inplace=True, ascending=False)\n",
    "cust_sales.head(1)"
   ]
  },
  {
   "cell_type": "markdown",
   "metadata": {},
   "source": [
    "### Task 10: Finding out the majority and minority customer cities on basis of"
   ]
  },
  {
   "cell_type": "code",
   "execution_count": 28,
   "metadata": {},
   "outputs": [
    {
     "name": "stdout",
     "output_type": "stream",
     "text": [
      "The Majority cities based on Number of Customer [City Name, Customer] are as follows: \n",
      "\n",
      "['New York City' 915]\n",
      "\n",
      "\n",
      "\n",
      "The Minority cities based on Number of Customer [City Name, Customer] are as follows: \n",
      "\n",
      "['Aberdeen' 1]\n",
      "['Ontario' 1]\n",
      "['Davis' 1]\n",
      "['Orland Park' 1]\n",
      "['Danbury' 1]\n",
      "['Ormond Beach' 1]\n",
      "['Iowa City' 1]\n",
      "['Pensacola' 1]\n",
      "['Conway' 1]\n",
      "['Conroe' 1]\n",
      "['Commerce City' 1]\n",
      "['Pico Rivera' 1]\n",
      "['Port Orange' 1]\n",
      "['Portage' 1]\n",
      "['Citrus Heights' 1]\n",
      "['Redding' 1]\n",
      "['Cheyenne' 1]\n",
      "['Redwood City' 1]\n",
      "['Chapel Hill' 1]\n",
      "['Champaign' 1]\n",
      "['Cedar Rapids' 1]\n",
      "['Rochester Hills' 1]\n",
      "['Rock Hill' 1]\n",
      "['Rogers' 1]\n",
      "['Deer Park' 1]\n",
      "['Romeoville' 1]\n",
      "['Normal' 1]\n",
      "['Murrieta' 1]\n",
      "['Jefferson City' 1]\n",
      "['Holyoke' 1]\n",
      "['Jupiter' 1]\n",
      "['Keller' 1]\n",
      "['Kissimmee' 1]\n",
      "['La Quinta' 1]\n",
      "['Lake Elsinore' 1]\n",
      "['Layton' 1]\n",
      "['Hagerstown' 1]\n",
      "['Linden' 1]\n",
      "['Lindenhurst' 1]\n",
      "['Littleton' 1]\n",
      "['Grand Island' 1]\n",
      "['Goldsboro' 1]\n",
      "['Glenview' 1]\n",
      "['Yucaipa' 1]\n",
      "['Manhattan' 1]\n",
      "['Margate' 1]\n",
      "['Melbourne' 1]\n",
      "['Missoula' 1]\n",
      "['Missouri City' 1]\n",
      "['Montebello' 1]\n",
      "['Elyria' 1]\n",
      "['Norfolk' 1]\n",
      "['Saint Peters' 1]\n",
      "['Palatine' 1]\n",
      "['Baytown' 1]\n",
      "['Bartlett' 1]\n",
      "['Arlington Heights' 1]\n",
      "['Vacaville' 1]\n",
      "['Atlantic City' 1]\n",
      "['Tinley Park' 1]\n",
      "['Santa Maria' 1]\n",
      "['Antioch' 1]\n",
      "['Billings' 1]\n",
      "['Waukesha' 1]\n",
      "['Springdale' 1]\n",
      "['San Mateo' 1]\n",
      "['Waterloo' 1]\n",
      "['Whittier' 1]\n",
      "['San Luis Obispo' 1]\n",
      "['Abilene' 1]\n"
     ]
    }
   ],
   "source": [
    "# a. Number of customers\n",
    "City_cust = df.groupby([\"City\"]).size().reset_index(name='Number of people')\n",
    "City_cust.sort_values(by=['Number of people'], inplace=True, ascending=True)\n",
    "# df.groupby(by=['City']).size().max()\n",
    "# df['City'].value().max()\n",
    "# df['City'].value_counts().idxmin()\n",
    "arr = np.array(City_cust)\n",
    "\n",
    "# For majority customer cities \n",
    "print('The Majority cities based on Number of Customer [City Name, Customer] are as follows: \\n')\n",
    "k=len(arr)-1\n",
    "temp=0\n",
    "while k>0 :\n",
    "    if arr[k,1]== arr[:,1].max() :\n",
    "        temp = temp + 1\n",
    "    k=k-1\n",
    "    \n",
    "while temp>0 :\n",
    "    print(arr[len(arr)-temp,:])\n",
    "    temp =temp-1\n",
    "    \n",
    "# For minority\n",
    "print('\\n\\n')\n",
    "print('The Minority cities based on Number of Customer [City Name, Customer] are as follows: \\n')\n",
    "\n",
    "i=0\n",
    "count=0\n",
    "while i<len(arr) :\n",
    "    if arr[i,1]== arr[:,1].min() :\n",
    "        count = count + 1\n",
    "    i=i+1\n",
    "\n",
    "\n",
    "j=0\n",
    "while j<count :\n",
    "    txt=arr[j,:]\n",
    "    j=j+1\n",
    "    print(txt)\n"
   ]
  },
  {
   "cell_type": "code",
   "execution_count": 29,
   "metadata": {},
   "outputs": [
    {
     "name": "stdout",
     "output_type": "stream",
     "text": [
      "The Minority cities based on Sales Value [City Name, Sales] are as follows: \n",
      "\n",
      "['Abilene' 1.3919999999999997]\n",
      "\n",
      "\n",
      "\n",
      "The Majority cities based on Sales Value [City Name, Sales] are as follows: \n",
      "\n",
      "['New York City' 256368.161]\n"
     ]
    }
   ],
   "source": [
    "# b. Sales value\n",
    "# Based on Sales value\n",
    "\n",
    "City_Sales = df[['City','Sales']].copy()\n",
    "City_Sales = pd.DataFrame(City_Sales.groupby('City').sum() ['Sales'])\n",
    "# City_Sales\n",
    "City_Sales.sort_values(by=['Sales'], inplace=True, ascending=True)\n",
    "# print(City_Sales)\n",
    "\n",
    "B = City_Sales.reset_index().values\n",
    "# print(B)\n",
    "# print(np.shape(B))\n",
    "\n",
    "# For minority\n",
    "print('The Minority cities based on Sales Value [City Name, Sales] are as follows: \\n')\n",
    "a=0\n",
    "c=0\n",
    "while a<len(B) :\n",
    "    if B[a,1]== B[:,1].min() :\n",
    "        c = c + 1\n",
    "    a=a+1\n",
    "\n",
    "x=0\n",
    "while x<c :\n",
    "    Q=B[x,:]\n",
    "    x=x+1\n",
    "    print(Q)\n",
    "   \n",
    "# For majority\n",
    "print('\\n\\n')\n",
    "print('The Majority cities based on Sales Value [City Name, Sales] are as follows: \\n')\n",
    "l=len(B)-1\n",
    "t=0\n",
    "while l>0 :\n",
    "    if B[l,1]== B[:,1].max() :\n",
    "        t = t + 1\n",
    "    l=l-1\n",
    "\n",
    "while t>0 :\n",
    "    print(B[len(B)-t,:])\n",
    "    t =t-1"
   ]
  },
  {
   "cell_type": "code",
   "execution_count": 30,
   "metadata": {},
   "outputs": [
    {
     "name": "stdout",
     "output_type": "stream",
     "text": [
      "The Majority cities based on Number of quantity sold [City Name, Quantity] are as follows: \n",
      "\n",
      "['New York City' 3417]\n",
      "\n",
      "\n",
      "\n",
      "The Minority cities based on Number of quantity sold [City Name, Quantity] are as follows: \n",
      "\n",
      "['Port Orange' 1]\n",
      "['Littleton' 1]\n",
      "['Lindenhurst' 1]\n",
      "['Elyria' 1]\n",
      "['Iowa City' 1]\n",
      "['Jupiter' 1]\n"
     ]
    }
   ],
   "source": [
    "# c. Number of quantity sold\n",
    "City_Quantity = df[['City','Quantity']].copy()\n",
    "City_Quantity = pd.DataFrame(City_Quantity.groupby('City').sum() ['Quantity'])\n",
    "# City_Quantity\n",
    "City_Quantity.sort_values(by=['Quantity'], inplace=True, ascending=True)\n",
    "# print(City_Quantity)\n",
    "\n",
    "C = City_Quantity.reset_index().values\n",
    "# print(np.shape(C))\n",
    "\n",
    "# for majority\n",
    "print('The Majority cities based on Number of quantity sold [City Name, Quantity] are as follows: \\n')\n",
    "n=len(C)-1\n",
    "z=0\n",
    "while n>0 :\n",
    "    if C[n,1]== C[:,1].max() :\n",
    "        z = z + 1\n",
    "    n=n-1\n",
    "\n",
    "while z>0 :\n",
    "    print(C[len(C)-z,:])\n",
    "    z =z-1\n",
    "    \n",
    "print('\\n\\n')   \n",
    "# For minority\n",
    "print('The Minority cities based on Number of quantity sold [City Name, Quantity] are as follows: \\n')\n",
    "m=0\n",
    "v=0\n",
    "while m<len(C) :\n",
    "    if C[m,1]== C[:,1].min() :\n",
    "        v = v + 1\n",
    "    m=m+1\n",
    "\n",
    "y=0\n",
    "while y<v :\n",
    "    S=C[y,:]\n",
    "    y=y+1\n",
    "    print(S)\n",
    "   "
   ]
  },
  {
   "cell_type": "markdown",
   "metadata": {},
   "source": [
    "### Task 11: Find out the most and least sold product category from the store"
   ]
  },
  {
   "cell_type": "code",
   "execution_count": 31,
   "metadata": {},
   "outputs": [
    {
     "name": "stdout",
     "output_type": "stream",
     "text": [
      "The most sold product category from the store [Category, Total Value Sold] are as follows: \n",
      "\n",
      "['Office Supplies' 6026]\n",
      "\n",
      "\n",
      "\n",
      "The least sold product category from the store [Category, Total Value Sold] are as follows: \n",
      "\n",
      "['Technology' 1847]\n"
     ]
    }
   ],
   "source": [
    "# a.Value based\n",
    "\n",
    "Category_Value = df.groupby([\"Category\"]).size().reset_index(name='Total Value Sold')\n",
    "Category_Value.sort_values(by=['Total Value Sold'], inplace=True, ascending=True)\n",
    "# Category_Value\n",
    "D = np.array(Category_Value)\n",
    "# print(np.shape(D))\n",
    "# print(D)\n",
    "\n",
    "# For most sold\n",
    "print('The most sold product category from the store [Category, Total Value Sold] are as follows: \\n')\n",
    "w=len(D)-1\n",
    "g=0\n",
    "while w>0 :\n",
    "    if D[w,1]== D[:,1].max() :\n",
    "        g = g + 1\n",
    "    w=w-1\n",
    "\n",
    "while g>0 :\n",
    "    print(D[len(D)-g,:])\n",
    "    g =g-1\n",
    "\n",
    "print('\\n\\n')\n",
    "# For least sold\n",
    "print('The least sold product category from the store [Category, Total Value Sold] are as follows: \\n')\n",
    "r=0\n",
    "e=0\n",
    "while r<len(D) :\n",
    "    if D[r,1]== D[:,1].min() :\n",
    "        e = e + 1\n",
    "    r=r+1\n",
    "\n",
    "u=0\n",
    "while u<e :\n",
    "    R=D[u,:]\n",
    "    u=u+1\n",
    "    print(R)   "
   ]
  },
  {
   "cell_type": "code",
   "execution_count": 32,
   "metadata": {},
   "outputs": [
    {
     "name": "stdout",
     "output_type": "stream",
     "text": [
      "The most sold product category from the store [Category, Quantity] are as follows: \n",
      "\n",
      "['Office Supplies' 22906]\n",
      "\n",
      "\n",
      "\n",
      "The least sold product category from the store [Category, Quantity] are as follows: \n",
      "\n",
      "['Technology' 6939]\n"
     ]
    }
   ],
   "source": [
    "# b.Quantity based\n",
    "\n",
    "Category_Quantity = df[['Category','Quantity']].copy()\n",
    "Category_Quantity = pd.DataFrame(Category_Quantity.groupby('Category').sum() ['Quantity'])\n",
    "# Category_Quantity\n",
    "Category_Quantity.sort_values(by=['Quantity'], inplace=True, ascending=True)\n",
    "# print(Category_Quantity)\n",
    "\n",
    "E = Category_Quantity.reset_index().values\n",
    "# print(np.shape(E))\n",
    "# print(E)\n",
    "\n",
    "# For most sold\n",
    "print('The most sold product category from the store [Category, Quantity] are as follows: \\n')\n",
    "ww=len(E)-1\n",
    "gg=0\n",
    "while ww>0 :\n",
    "    if E[ww,1]== E[:,1].max() :\n",
    "        gg = gg + 1\n",
    "    ww=ww-1\n",
    "\n",
    "while gg>0 :\n",
    "    print(E[len(E)-gg,:])\n",
    "    gg =gg-1\n",
    "\n",
    "# For least sold\n",
    "print('\\n\\n')\n",
    "print('The least sold product category from the store [Category, Quantity] are as follows: \\n')\n",
    "rr=0\n",
    "ee=0\n",
    "while rr<len(E) :\n",
    "    if E[rr,1]== E[:,1].min() :\n",
    "        ee = ee + 1\n",
    "    rr=rr+1\n",
    "\n",
    "uu=0\n",
    "while uu<ee :\n",
    "    T=E[uu,:]\n",
    "    uu=uu+1\n",
    "    print(T)"
   ]
  },
  {
   "cell_type": "markdown",
   "metadata": {},
   "source": [
    "### Task 12: Find out the most and least sold product sub category from the store\n"
   ]
  },
  {
   "cell_type": "code",
   "execution_count": 33,
   "metadata": {},
   "outputs": [
    {
     "name": "stdout",
     "output_type": "stream",
     "text": [
      "The most sold product sub-category from the store [Sub-Category, Total Sold] are as follows: \n",
      "\n",
      "['Binders' 1523]\n",
      "\n",
      "\n",
      "\n",
      "The least sold product sub-category from the store [Sub-Category, Total Sold] are as follows: \n",
      "\n",
      "['Copiers' 68]\n"
     ]
    }
   ],
   "source": [
    "# a.Value based\n",
    "\n",
    "SubCategory_Value = df.groupby([\"Sub-Category\"]).size().reset_index(name='Total Sold')\n",
    "SubCategory_Value.sort_values(by=['Total Sold'], inplace=True, ascending=True)\n",
    "# SubCategory_Value\n",
    "F = np.array(SubCategory_Value)\n",
    "# print(np.shape(F))\n",
    "# print(F)\n",
    "\n",
    "# For most sold\n",
    "print('The most sold product sub-category from the store [Sub-Category, Total Sold] are as follows: \\n')\n",
    "f=len(F)-1\n",
    "ab=0\n",
    "while f>0 :\n",
    "    if F[f,1]== F[:,1].max() :\n",
    "        ab = ab + 1\n",
    "    f=f-1\n",
    "\n",
    "while ab>0 :\n",
    "    print(F[len(F)-ab,:])\n",
    "    ab =ab-1\n",
    "\n",
    "print('\\n\\n')\n",
    "# For least sold\n",
    "print('The least sold product sub-category from the store [Sub-Category, Total Sold] are as follows: \\n')\n",
    "o=0\n",
    "h=0\n",
    "while o<len(F) :\n",
    "    if F[o,1]== F[:,1].min() :\n",
    "        h = h + 1\n",
    "    o=o+1\n",
    "\n",
    "q=0\n",
    "while q<h :\n",
    "    L=F[q,:]\n",
    "    q=q+1\n",
    "    print(L)"
   ]
  },
  {
   "cell_type": "code",
   "execution_count": 34,
   "metadata": {},
   "outputs": [
    {
     "name": "stdout",
     "output_type": "stream",
     "text": [
      "The most sold product sub-category from the store [Sub-Category, Quantity] are as follows: \n",
      "\n",
      "['Binders' 5974]\n",
      "\n",
      "\n",
      "\n",
      "The least sold product sub-category from the store [Sub-Category, Quantity] are as follows: \n",
      "\n",
      "['Copiers' 234]\n"
     ]
    }
   ],
   "source": [
    "# b.Quantity based\n",
    "\n",
    "SubCategory_Quantity = df[['Sub-Category','Quantity']].copy()\n",
    "SubCategory_Quantity = pd.DataFrame(SubCategory_Quantity.groupby('Sub-Category').sum() ['Quantity'])\n",
    "# SubCategory_Quantity\n",
    "SubCategory_Quantity.sort_values(by=['Quantity'], inplace=True, ascending=True)\n",
    "# print(SubCategory_Quantity)\n",
    "\n",
    "K = SubCategory_Quantity.reset_index().values\n",
    "# print(np.shape(K))\n",
    "# print(K)\n",
    "\n",
    "# For most sold\n",
    "print('The most sold product sub-category from the store [Sub-Category, Quantity] are as follows: \\n')\n",
    "ff=len(K)-1\n",
    "cd=0\n",
    "while ff>0 :\n",
    "    if K[ff,1]== K[:,1].max() :\n",
    "        cd = cd + 1\n",
    "    ff=ff-1\n",
    "\n",
    "while cd>0 :\n",
    "    print(K[len(K)-cd,:])\n",
    "    cd =cd-1\n",
    "\n",
    "    \n",
    "# For least sold\n",
    "print('\\n\\n')\n",
    "print('The least sold product sub-category from the store [Sub-Category, Quantity] are as follows: \\n')\n",
    "oo=0\n",
    "hh=0\n",
    "while oo<len(K) :\n",
    "    if K[oo,1]== K[:,1].min() :\n",
    "        hh = hh + 1\n",
    "    oo=oo+1\n",
    "\n",
    "qq=0\n",
    "while qq<hh :\n",
    "    O=K[qq,:]\n",
    "    qq=qq+1\n",
    "    print(O)"
   ]
  },
  {
   "cell_type": "markdown",
   "metadata": {},
   "source": [
    "<div align=\"center\"> <font size=\"6\"> <b>END OF PROJECT </font> </div>"
   ]
  }
 ],
 "metadata": {
  "kernelspec": {
   "display_name": "Python 3",
   "language": "python",
   "name": "python3"
  },
  "language_info": {
   "codemirror_mode": {
    "name": "ipython",
    "version": 3
   },
   "file_extension": ".py",
   "mimetype": "text/x-python",
   "name": "python",
   "nbconvert_exporter": "python",
   "pygments_lexer": "ipython3",
   "version": "3.8.3"
  }
 },
 "nbformat": 4,
 "nbformat_minor": 4
}
